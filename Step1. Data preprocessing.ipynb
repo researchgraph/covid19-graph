{
 "cells": [
  {
   "cell_type": "markdown",
   "metadata": {},
   "source": [
    "# COVID-19 Documents Data Preprocessing\n",
    "\n",
    "This Jupyter notebook demonstrates how to preprocess COVID-19 article data by using python code. Data preprocessing aims to make data to be useful for analysis, which contains removing duplications, non-English documents, cleaning text, and reformatting data table. "
   ]
  },
  {
   "cell_type": "code",
   "execution_count": 1,
   "metadata": {},
   "outputs": [],
   "source": [
    "import pandas as pd\n",
    "import re\n",
    "import json\n",
    "import nltk\n",
    "from langdetect import detect\n",
    "from nltk.corpus import stopwords\n",
    "from nltk.stem import WordNetLemmatizer\n",
    "import warnings\n",
    "warnings.filterwarnings('ignore')\n",
    "pd.set_option('display.max_columns', None)"
   ]
  },
  {
   "cell_type": "code",
   "execution_count": 2,
   "metadata": {},
   "outputs": [],
   "source": [
    "INPUT_PATH = '../Data/covid-json/'\n",
    "OUTPUT_PATH = '../Data/preprocessed_data/'"
   ]
  },
  {
   "cell_type": "markdown",
   "metadata": {},
   "source": [
    "## Load Data"
   ]
  },
  {
   "cell_type": "code",
   "execution_count": 3,
   "metadata": {},
   "outputs": [
    {
     "name": "stdout",
     "output_type": "stream",
     "text": [
      "(464516, 73) (118093, 73) (98716, 71)\n"
     ]
    }
   ],
   "source": [
    "# Use pandas library to convert json to dataframe\n",
    "\n",
    "df1 = pd.read_json(INPUT_PATH+\"covid_19.json\")\n",
    "df2 = pd.read_json(INPUT_PATH+\"covid19.json\")\n",
    "df3 = pd.read_json(INPUT_PATH+\"sars_cov_2.json\")\n",
    "print(df1.shape, df2.shape, df3.shape)"
   ]
  },
  {
   "cell_type": "code",
   "execution_count": 4,
   "metadata": {},
   "outputs": [
    {
     "data": {
      "text/plain": [
       "(547835, 73)"
      ]
     },
     "execution_count": 4,
     "metadata": {},
     "output_type": "execute_result"
    }
   ],
   "source": [
    "# Combine the dataframes\n",
    "\n",
    "frames = [df1, df2, df3]\n",
    "covid_df = pd.concat(frames)\n",
    "\n",
    "# Remove duplicated articles by '_id'\n",
    "covid_df.drop_duplicates(subset=['_id'], keep='first', inplace=True)\n",
    "covid_df.shape"
   ]
  },
  {
   "cell_type": "markdown",
   "metadata": {},
   "source": [
    "## Exclude non-English articles"
   ]
  },
  {
   "cell_type": "code",
   "execution_count": 8,
   "metadata": {},
   "outputs": [],
   "source": [
    "def detect_language(text):\n",
    "    try:\n",
    "        language = detect(text)\n",
    "    except:\n",
    "        language = 'Error'\n",
    "    return language"
   ]
  },
  {
   "cell_type": "code",
   "execution_count": 9,
   "metadata": {},
   "outputs": [],
   "source": [
    "covid_df['text'] = covid_df['title'].astype(str) + ' ' + covid_df['abstract'].astype(str) + ' ' + covid_df['pubmed-abstract'].astype(str)\n",
    "covid_df['language'] = covid_df['text'].apply(detect_language)\n",
    "english_covid_df = covid_df.loc[covid_df['language'] == 'en']"
   ]
  },
  {
   "cell_type": "code",
   "execution_count": 14,
   "metadata": {},
   "outputs": [
    {
     "data": {
      "text/plain": [
       "(470574, 75)"
      ]
     },
     "execution_count": 14,
     "metadata": {},
     "output_type": "execute_result"
    }
   ],
   "source": [
    "english_covid_df.shape"
   ]
  },
  {
   "cell_type": "markdown",
   "metadata": {},
   "source": [
    "## Cleaning text"
   ]
  },
  {
   "cell_type": "code",
   "execution_count": 19,
   "metadata": {},
   "outputs": [],
   "source": [
    "def cleanhtml(raw_html):\n",
    "    cleanr = re.compile(r'<[^>]+>')\n",
    "    cleantext = re.sub(cleanr, ' ', raw_html)\n",
    "    cleantext = re.sub('  ', ' ', cleantext)\n",
    "    return cleantext\n",
    "\n",
    "\n",
    "def cleaning_text(text):\n",
    "    \"\"\"\n",
    "        Remove stop-words\n",
    "        No digits\n",
    "        No word length less than 3 \n",
    "        Convert to lowercase\n",
    "    \"\"\"\n",
    "    # remove html tags\n",
    "    cleantext = cleanhtml(text)\n",
    "    lemmatizer = WordNetLemmatizer()\n",
    "    stopwords = set(nltk.corpus.stopwords.words('english'))\n",
    "\n",
    "    pos_family = {\n",
    "        'noun': ['NN', 'NNS', 'NNP', 'NNPS'],\n",
    "        'pron': ['PRP', 'PRP$', 'WP', 'WP$'],\n",
    "        'verb': ['VB', 'VBD', 'VBG', 'VBN', 'VBP', 'VBZ'],\n",
    "        'adj': ['JJ', 'JJR', 'JJS'],\n",
    "        'adv': ['RB', 'RBR', 'RBS', 'WRB']\n",
    "    }\n",
    "    \n",
    "    regex = r\"\\b[^\\d\\W]+\\b\"\n",
    "    tokens = []\n",
    "    cleantext = cleantext.replace('-', '_')\n",
    "    sentences = nltk.sent_tokenize(cleantext)\n",
    "    \n",
    "    for s in sentences:\n",
    "        words = re.findall(regex, s)\n",
    "        pairs = nltk.pos_tag(words)\n",
    "        for pair in pairs:\n",
    "            w = list(pair)[0] \n",
    "            tag = list(pair)[1]\n",
    "            if w in stopwords: continue\n",
    "            if w.isdigit(): continue\n",
    "            if w.isupper() != True:w = w.lower() \n",
    "            if len(w) <= 3: continue\n",
    "            if tag in pos_family['noun']:\n",
    "                w = lemmatizer.lemmatize(w, 'n')\n",
    "            elif tag in pos_family['pron']: # e.g their, self, what\n",
    "                w = lemmatizer.lemmatize(w)\n",
    "            elif tag in pos_family['verb']: # e.g experienced, based, evaluating, trying, healthcare\n",
    "                w = lemmatizer.lemmatize(w, 'v')\n",
    "            elif tag in pos_family['adj']: # e.g significant, pandemic, clinical, sensitive\n",
    "                w = lemmatizer.lemmatize(w, 'a')\n",
    "            elif tag in pos_family['adv']: #e.g. sore, seriously, alone, nationally\n",
    "                w = lemmatizer.lemmatize(w, 'r')\n",
    "            tokens.append(w)\n",
    "    cleaned_text = ' '.join(tokens)\n",
    " \n",
    "    return cleaned_text"
   ]
  },
  {
   "cell_type": "code",
   "execution_count": 20,
   "metadata": {},
   "outputs": [],
   "source": [
    "def removing_stopwords(text):\n",
    "    \"\"\"\n",
    "        Remove common-words\n",
    "    \"\"\"\n",
    "    stopwords = list(set(nltk.corpus.stopwords.words('english')))\n",
    "    avoiding_words = ['covid_19', 'covid', 'COVID', 'covid_', 'COVID_', 'CORONAVIRUS', \n",
    "                      'SARS_COV_2', 'coronavirus', 'coronaviruses', \n",
    "                      'sars_cov_2', 'conclusion', 'CONCLUSION', 'objective', 'OBJECTIVE', 'ABSTRACT', 'BACKGROUND'\n",
    "                      'abstract', 'background', 'AUTHOR', 'DISCLOSURE', 'author', 'disclosure', 'title', 'TITLE']\n",
    "    stopwords.extend(avoiding_words)\n",
    "    sentences = nltk.sent_tokenize(text)\n",
    "    new_text = []\n",
    "    for word in text.split(' '):\n",
    "        if word not in stopwords:\n",
    "            new_text.append(word)\n",
    "                \n",
    "    cleaned_text = ' '.join(new_text)\n",
    " \n",
    "    return cleaned_text"
   ]
  },
  {
   "cell_type": "code",
   "execution_count": 21,
   "metadata": {},
   "outputs": [],
   "source": [
    "# text cleaning part1\n",
    "\n",
    "text_cleaning = lambda x: cleaning_text(x)\n",
    "english_covid_df['cleaned_text'] = english_covid_df['text'].apply(text_cleaning)\n",
    "english_covid_df.drop(columns=['text'], inplace=True)\n",
    "english_covid_df.rename(columns={'cleaned_text':'text'}, inplace=True)"
   ]
  },
  {
   "cell_type": "code",
   "execution_count": 22,
   "metadata": {},
   "outputs": [],
   "source": [
    "# text cleaning part2\n",
    "\n",
    "text_cleaning = lambda x: removing_stopwords(x)\n",
    "english_covid_df['cleaned_text'] = english_covid_df['text'].apply(text_cleaning)\n",
    "english_covid_df.drop(columns=['text'], inplace=True)\n",
    "english_covid_df.rename(columns={'cleaned_text':'text'}, inplace=True)"
   ]
  },
  {
   "cell_type": "markdown",
   "metadata": {},
   "source": [
    "## Drop articles after text cleaning\n",
    "\n",
    "We exclude word in the text if the word is a digit, stop-words, or special charater during the text cleaning process. Therefore, some articles remain zero-word after the text cleaning process. We drop these zero-word articles from the corpus before we apply topic modelling."
   ]
  },
  {
   "cell_type": "code",
   "execution_count": 23,
   "metadata": {
    "scrolled": true
   },
   "outputs": [
    {
     "name": "stdout",
     "output_type": "stream",
     "text": [
      "['What is Covid-19?']\n",
      "['COVID-19 and after']\n",
      "['COVID-19 and after']\n",
      "['COVID-19 and after']\n",
      "['COVID-19 – where do we go from here?']\n",
      "['The day after COVID-19']\n",
      "['COVID-19 and the Eye']\n",
      "['Where Is the ID in COVID-19?']\n",
      "['The Day After Covid-19']\n",
      "['Coronavirus and COVID-19']\n",
      "['COVID-19 and the eye']\n",
      "['NLP for COVID-19']\n",
      "['How Do We End COVID-19?']\n",
      "['The UK and Covid-19']\n",
      "['COVID-19: Where Are We Now?']\n",
      "['The BBC and Covid-19']\n",
      "['COVID-19: the day after']\n",
      "['COVID-19: where do we go from here?']\n",
      "['The art of COVID-19']\n",
      "['COVID-19: A New Coronavirus']\n",
      "['COVID-19 – Where should we go now?']\n",
      "['CMR in the Era of COVID-19']\n",
      "['Covid-19 and Covid-1619']\n",
      "['COVID-19: A New Coronavirus']\n",
      "['HIV in the age of COVID-19']\n",
      "['XR in the era of COVID-19']\n",
      "['COVID-19 (A): How Did We Get Here and What Do We Do Now?']\n",
      "['How can we get out of COVID-19?']\n",
      "['FDG PET/CT of COVID-19']\n",
      "['COVID-19: is the ACE2 just a foe?']\n",
      "['Covid-19-vaccine-pfizer-biontech']\n",
      "['Covid-19-Vaccine-Pfizer-Biontech']\n",
      "['Covid-19-vaccine-pfizer-biontech']\n",
      "['The 12-Lead ECG in COVID-19']\n",
      "['Covid-19-vaccine-Pfizer-BioNTech']\n",
      "['Covid-19-vaccine-pfizer-biontech']\n",
      "['Covid-19-vaccine-pfizer-biontech']\n",
      "['Covid-19-vaccine-pfizer-biontech']\n",
      "['Covid-19-vaccine-pfizer-biontech']\n",
      "['Covid-19-vaccine-pfizer-biontech']\n",
      "['Covid-19-vaccine-pfizer-biontech']\n",
      "['Covid-19-vaccine-pfizer-biontech']\n",
      "['Covid-19-vaccine-pfizer-biontech']\n",
      "['Covid-19-vaccine-pfizer-biontech']\n",
      "['Covid-19-vaccine-pfizer-biontech']\n",
      "['Covid-19-vaccine-pfizer-biontech']\n",
      "['Covid-19-vaccine-pfizer-biontech']\n",
      "['Covid-19-vaccine-pfizer-biontech']\n",
      "['Covid-19-vaccine-pfizer-biontech']\n",
      "['Covid-19-vaccine-pfizer-biontech']\n",
      "['Covid-19-vaccine-pfizer-biontech']\n",
      "['Covid-19-vaccine-pfizer-biontech']\n",
      "['Covid-19-vaccine-pfizer-biontech']\n",
      "['Covid-19-vaccine-pfizer-biontech']\n",
      "['Covid-19-vaccine-pfizer-biontech']\n",
      "['Covid-19-vaccine-pfizer-biontech']\n",
      "['Covid-19-vaccine-pfizer-biontech']\n",
      "['Covid-19-vaccine-pfizer-biontech']\n",
      "['Covid-19-vaccine-pfizer-biontech']\n",
      "['Covid-19-vaccine-pfizer-biontech']\n",
      "['Coronaviruses, COVID-19 and SARS-CoV-2']\n",
      "['Coronavirus, COVID-19 and SARS-CoV-2']\n",
      "['Coronavirus SARS-CoV-2 and Covid-19']\n",
      "['antifungal-treatment-of-mucormycosis-associated-with-covid-19']\n",
      "['SARS-CoV-2, COVID-19, and the Eye']\n",
      "['New Coronavirus COVID-19 (SARS-CoV-2)']\n",
      "['on-the-stabilization-of-the-spread-of-the-coronavirus-covid-19-pandemic-in-the-world']\n",
      "['covid-19-in-algeria-chronology-and-evaluation-of-preventive-actions']\n",
      "['the-convalescent-serum-for-treatment-of-covid-19-infection-review']\n",
      "['clinical-pharmacist-in-a-covid-19-hospital-a-malaysian-experience']\n",
      "['Covid-19-vaccine-Pfizer-BioNTech/mRNA-1273']\n",
      "['national-guidelines-on-management-of-coronavirus-disease-covid-19-in-morocco']\n",
      "['spreading-of-the-novel-coronavirus-covid-19-mathematical-modeling-in-malaysia-perspective']\n",
      "['COVID-19-vaccine-Gamaleya-National-Research-Center-of-Epidemiology-and-Microbiology']\n",
      "['S E C T I O N 5 / What after COVID-19?']\n",
      "['COVID-19-vaccine-Gamaleya-National-Research-Center-of-Epidemiology-and-Microbiology']\n",
      "['Covid-19-vaccine-gamaleya-national-research-center-of-epidemiology-and-microbiology']\n",
      "['Ad26.cov2-s/azd-1222/covid-19-vaccine-pfizer-biontech']\n",
      "['Ad26.cov2-s/covid-19-vaccine-pfizer-biontech/gsk-137173a']\n",
      "['first-year-pharmacy-students-perceptions-on-odl-during-the-covid-19-pandemic-a-thematic-analysis']\n",
      "['Covid-19-vaccine-pfizer-biontech/sars-cov-2-vaccine-inactivated-sinovac-biotech']\n",
      "['monotherapy-with-lopinavir-ritonavir-or-in-combination-with-interferon-beta-1b-in-patients-with-non-severe-covid-19-disease-a-clinical-case-series']\n",
      "['About coronavirus']\n",
      "['What Is a Coronavirus?']\n",
      "['The Coronavirus']\n",
      "['The Coronaviruses']\n",
      "['The Coronavirus:']\n",
      "['New coronavirus']\n",
      "['TiO2 and the Coronavirus']\n",
      "['JLT and the Coronavirus']\n",
      "['Coronaviruses in the Sea']\n",
      "['The WHO in the Age of the Coronavirus']\n",
      "['More on UFC and the Coronavirus']\n",
      "['Coronavirus Disease-19']\n",
      "['Coronaviruses and SARS-COV-2']\n",
      "['New Coronavirus: SARS-COV-2']\n",
      "['SARS-COV-2, can you be over it?']\n",
      "['mRNA-1273-SARS-CoV-2-Impfstoff']\n",
      "['SARS-COV-2-vaccine-inactivated-Sinovac-Biotech']\n",
      "['SARS-COV-2-vaccine-inactivated-Sinovac-Biotech']\n",
      "['SARS-COV-2-vaccine-inactivated-Sinovac-Biotech']\n",
      "['SARS-COV-2-vaccine-inactivated-Sinovac-Biotech']\n",
      "['SARS-COV-2-vaccine-inactivated-Sinovac-Biotech']\n",
      "['Sars-cov-2-vaccine-inactivated-sinovac-biotech']\n",
      "['SARS-COV-2-vaccine-inactivated-Sinovac-Biotech']\n",
      "['SARS-COV-2-vaccine-inactivated-Sinovac-Biotech']\n",
      "['Sars-cov-2-vaccine-inactivated-sinovac-biotech']\n",
      "['Sars-cov-2-vaccine-inactivated-sinovac-biotech']\n",
      "['Sars-cov-2-vaccine-inactivated-sinovac-biotech']\n",
      "['Sars-cov-2-vaccine-inactivated-sinovac-biotech']\n",
      "['SARS-COV-2-vaccine-inactivated-Sinovac-Biotech']\n",
      "['SARS-COV-2-vaccine-inactivated-Sinovac-Biotech']\n",
      "['SARS-COV-2-vaccine-inactivated-Sinovac-Biotech']\n",
      "['Sars-cov-2-vaccine-inactivated-sinovac-biotech']\n",
      "['Sars-cov-2-vaccine-inactivated-sinovac-biotech']\n",
      "['SARS-COV-2-vaccine-inactivated-Sinovac-Biotech']\n",
      "['SARS-COV-2-vaccine-inactivated-Sinovac-Biotech']\n",
      "['Sars-cov-2-vaccine-inactivated-sinovac-biotech']\n",
      "['SARS-COV-2-vaccine-inactivated-Sinovac-Biotech']\n",
      "['SARS-COV-2-vaccine-inactivated-Sinovac-Biotech']\n",
      "['Sars-cov-2-vaccine-inactivated-sinovac-biotech']\n",
      "['SARS-COV-2-vaccine-inactivated-Sinovac-Biotech']\n",
      "['Sars-cov-2-vaccine-inactivated-sinovac-biotech']\n",
      "['SARS-COV-2-vaccine-inactivated-Sinovac-Biotech']\n",
      "['SARS-COV-2-vaccine-inactivated-Sinovac-Biotech']\n",
      "['Azd-1222/sars-cov-2-vaccine-inactivated-sinovac-biotech']\n",
      "['AZD-1222/sars-cov-2-vaccine-inactivated-sinovac-biotech']\n",
      "127 of articles are dropped as the cleaned text is null\n"
     ]
    },
    {
     "data": {
      "text/plain": [
       "(470382, 76)"
      ]
     },
     "execution_count": 23,
     "metadata": {},
     "output_type": "execute_result"
    }
   ],
   "source": [
    "# drop zero-word articles\n",
    "english_covid_df.reset_index()\n",
    "drop_index = []\n",
    "for index, row in english_covid_df.iterrows():\n",
    "    if len(row['text']) < 3:\n",
    "        print(row['title'])\n",
    "        drop_index.append(index)\n",
    "print(\"{} of articles are dropped as the cleaned text is null\".format(len(drop_index)))\n",
    "preprocessed_df = english_covid_df.drop(drop_index, inplace=False)\n",
    "preprocessed_df.shape"
   ]
  },
  {
   "cell_type": "code",
   "execution_count": 28,
   "metadata": {},
   "outputs": [],
   "source": [
    "# save data preprocessing results\n",
    "\n",
    "column_list = list(preprocessed_df.columns)\n",
    "column_list.remove('text')\n",
    "\n",
    "preprocessed_df[column_list].to_csv(OUTPUT_PATH + \"merged_covid_articles.tsv\", sep='\\t', encoding='utf-8', index=False)\n",
    "preprocessed_df[['_id', 'text']].to_csv(OUTPUT_PATH + \"preprocessed_data.tsv\", sep='\\t', encoding='utf-8', index=False)"
   ]
  }
 ],
 "metadata": {
  "kernelspec": {
   "display_name": "covid_venv",
   "language": "python",
   "name": "covid_venv"
  },
  "language_info": {
   "codemirror_mode": {
    "name": "ipython",
    "version": 3
   },
   "file_extension": ".py",
   "mimetype": "text/x-python",
   "name": "python",
   "nbconvert_exporter": "python",
   "pygments_lexer": "ipython3",
   "version": "3.6.8"
  },
  "toc": {
   "base_numbering": 1,
   "nav_menu": {},
   "number_sections": false,
   "sideBar": true,
   "skip_h1_title": false,
   "title_cell": "Table of Contents",
   "title_sidebar": "Contents",
   "toc_cell": false,
   "toc_position": {
    "height": "calc(100% - 180px)",
    "left": "10px",
    "top": "150px",
    "width": "336px"
   },
   "toc_section_display": true,
   "toc_window_display": true
  }
 },
 "nbformat": 4,
 "nbformat_minor": 4
}
